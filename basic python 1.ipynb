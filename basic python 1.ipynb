{
 "cells": [
  {
   "cell_type": "code",
   "execution_count": 3,
   "metadata": {},
   "outputs": [
    {
     "name": "stdout",
     "output_type": "stream",
     "text": [
      "0\n",
      "1\n",
      "2\n",
      "3\n",
      "4\n",
      "5\n"
     ]
    }
   ],
   "source": [
    "range(6)\n",
    "for temp in range(6):\n",
    "    print(temp)"
   ]
  },
  {
   "cell_type": "code",
   "execution_count": 5,
   "metadata": {},
   "outputs": [
    {
     "name": "stdout",
     "output_type": "stream",
     "text": [
      "10 is greater than 8 \n"
     ]
    }
   ],
   "source": [
    "num1=10\n",
    "num2=8\n",
    "if(num1>num2):\n",
    "    print(\"10 is greater than 8 \")\n",
    "else:\n",
    "    print(\"8 is greater than 10 \")\n",
    "    \n",
    "\n"
   ]
  },
  {
   "cell_type": "code",
   "execution_count": 9,
   "metadata": {},
   "outputs": [
    {
     "name": "stdout",
     "output_type": "stream",
     "text": [
      "p\n",
      "y\n",
      "t\n",
      "h\n",
      "o\n",
      "n\n"
     ]
    }
   ],
   "source": [
    "list1=[\"p\",\"y\",\"t\",\"h\",\"o\",\"n\"]\n",
    "for temp in list1:\n",
    "    print(temp)\n"
   ]
  },
  {
   "cell_type": "code",
   "execution_count": 16,
   "metadata": {},
   "outputs": [
    {
     "name": "stdout",
     "output_type": "stream",
     "text": [
      "machine learning\n",
      "deep learning\n",
      "NLP\n"
     ]
    }
   ],
   "source": [
    "list2=[\"machine learning\",\"deep learning\",\"NLP\" ]\n",
    "for temp in list2:\n",
    "    print(temp)"
   ]
  },
  {
   "cell_type": "code",
   "execution_count": 14,
   "metadata": {},
   "outputs": [
    {
     "name": "stdout",
     "output_type": "stream",
     "text": [
      "Machine learning\n",
      "M\n",
      "c\n",
      "i\n",
      "e\n",
      "l\n",
      "a\n",
      "n\n",
      "n\n"
     ]
    }
   ],
   "source": [
    "print(\"Machine learning\")\n",
    "inputt=['M','a','c','h','i','n','e','l','e','a','r','n','i','n','g' ]\n",
    "for temp in inputt[0]:\n",
    "    print(temp)\n",
    "for temp in inputt[2]:\n",
    "    print(temp)\n",
    "for temp in inputt[4]:\n",
    "    print(temp)\n",
    "for temp in inputt[6]:\n",
    "    print(temp)\n",
    "for temp in inputt[7]:\n",
    "    print(temp)\n",
    "for temp in inputt[9]:\n",
    "    print(temp)\n",
    "for temp in inputt[11]:\n",
    "    print(temp)\n",
    "for temp in inputt[13]:\n",
    "    print(temp)"
   ]
  },
  {
   "cell_type": "code",
   "execution_count": 5,
   "metadata": {},
   "outputs": [
    {
     "name": "stdout",
     "output_type": "stream",
     "text": [
      "10\n",
      "20\n",
      "30\n",
      "30 is greater\n"
     ]
    }
   ],
   "source": [
    "list3=[10,20,30]\n",
    "for temp in list3:\n",
    "    print(temp)\n",
    "print(max(list3),\"is greater\")    \n",
    "    "
   ]
  },
  {
   "cell_type": "code",
   "execution_count": 13,
   "metadata": {},
   "outputs": [
    {
     "name": "stdout",
     "output_type": "stream",
     "text": [
      "1\n",
      "3\n",
      "5\n",
      "7\n",
      "9\n",
      "11\n",
      "13\n",
      "15\n",
      "17\n",
      "19\n"
     ]
    }
   ],
   "source": [
    "range(10)\n",
    "for temp in range(10):\n",
    "    print(temp*2)"
   ]
  },
  {
   "cell_type": "code",
   "execution_count": 14,
   "metadata": {},
   "outputs": [
    {
     "name": "stdout",
     "output_type": "stream",
     "text": [
      "1\n",
      "3\n",
      "5\n",
      "7\n",
      "9\n",
      "11\n",
      "13\n",
      "15\n",
      "17\n",
      "19\n"
     ]
    }
   ],
   "source": [
    "range(10)\n",
    "for temp in range(10):\n",
    "    print(temp*2+1)\n"
   ]
  },
  {
   "cell_type": "code",
   "execution_count": 15,
   "metadata": {},
   "outputs": [
    {
     "name": "stdout",
     "output_type": "stream",
     "text": [
      "35 is odd\n"
     ]
    }
   ],
   "source": [
    "num=[20,10,16,35,276,188]\n",
    "for i in num:\n",
    "    if i % 2 == 1:\n",
    "        print(i,\"is odd\")\n",
    "    "
   ]
  },
  {
   "cell_type": "code",
   "execution_count": null,
   "metadata": {},
   "outputs": [],
   "source": []
  }
 ],
 "metadata": {
  "kernelspec": {
   "display_name": "Python 3",
   "language": "python",
   "name": "python3"
  },
  "language_info": {
   "codemirror_mode": {
    "name": "ipython",
    "version": 3
   },
   "file_extension": ".py",
   "mimetype": "text/x-python",
   "name": "python",
   "nbconvert_exporter": "python",
   "pygments_lexer": "ipython3",
   "version": "3.7.4"
  }
 },
 "nbformat": 4,
 "nbformat_minor": 2
}
