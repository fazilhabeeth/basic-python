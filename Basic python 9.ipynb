{
 "cells": [
  {
   "cell_type": "code",
   "execution_count": 34,
   "metadata": {},
   "outputs": [],
   "source": [
    "#Create class and function to check the number is prime number or not\n",
    "class Prime():\n",
    "    def primeOrnot():\n",
    "        Number=int(input(\"Enter any number: \"))\n",
    "        if Number>1:\n",
    "            for i in range(2,Number):\n",
    "                if (Number % i==0):\n",
    "                    print(Number,\" is not a prime number\")\n",
    "                    break\n",
    "                else:\n",
    "                    print(Number,\" is a prime number\")\n",
    "                    break"
   ]
  },
  {
   "cell_type": "code",
   "execution_count": 35,
   "metadata": {},
   "outputs": [
    {
     "name": "stdout",
     "output_type": "stream",
     "text": [
      "Enter any number: 29\n",
      "29  is a prime number\n"
     ]
    }
   ],
   "source": [
    "Prime.primeOrnot()"
   ]
  },
  {
   "cell_type": "code",
   "execution_count": 1,
   "metadata": {},
   "outputs": [],
   "source": [
    "class carModel():\n",
    "    def modelFunc():\n",
    "        carmodel=[]\n",
    "        print(\"Car Model Names:\")\n",
    "        List=[\"Maruti Alto\",\"Maruti Dzire\",\"Hyundai Creta\",\"Maruti Swift\"]\n",
    "        for temp in List:\n",
    "            print(temp)\n"
   ]
  },
  {
   "cell_type": "code",
   "execution_count": 2,
   "metadata": {},
   "outputs": [
    {
     "name": "stdout",
     "output_type": "stream",
     "text": [
      "Car Model Names:\n",
      "Maruti Alto\n",
      "Maruti Dzire\n",
      "Hyundai Creta\n",
      "Maruti Swift\n"
     ]
    }
   ],
   "source": [
    "carModel.modelFunc()"
   ]
  },
  {
   "cell_type": "code",
   "execution_count": 8,
   "metadata": {},
   "outputs": [],
   "source": [
    "#Create a class to calculate average marks\n",
    "class averageClass():\n",
    "     def Averagefun():\n",
    "            m1=int(input(\"Mark1= \"))\n",
    "            m2=int(input(\"Mark2= \"))\n",
    "            m3=int(input(\"Mark3= \"))\n",
    "            print(\"Total : \",m1+m2+m3)\n",
    "            print(\"Average : \",int((m1+m2+m3)/3))#typeconversion"
   ]
  },
  {
   "cell_type": "code",
   "execution_count": 9,
   "metadata": {},
   "outputs": [
    {
     "name": "stdout",
     "output_type": "stream",
     "text": [
      "Mark1= 98\n",
      "Mark2= 76\n",
      "Mark3= 88\n",
      "Total :  262\n",
      "Average :  87\n"
     ]
    }
   ],
   "source": [
    "averageClass.Averagefun()"
   ]
  },
  {
   "cell_type": "code",
   "execution_count": 10,
   "metadata": {},
   "outputs": [],
   "source": [
    "#Create class to calculate simple interest\n",
    "class simpleInterest():\n",
    "    def SIcalculator():\n",
    "        P=int(input(\"Principle Amount: \"))\n",
    "        R=int(input(\"Rate of Interest: \"))\n",
    "        T=int(input(\"Time Period: \"))\n",
    "        print(\"Simple Interest formula=(P*R*T)/100\")\n",
    "        SI=(P*R*T)/100\n",
    "        print(\"Simple Interest: \",SI)\n"
   ]
  },
  {
   "cell_type": "code",
   "execution_count": 11,
   "metadata": {},
   "outputs": [
    {
     "name": "stdout",
     "output_type": "stream",
     "text": [
      "Principle Amount: 10000\n",
      "Rate of Interest: 10\n",
      "Time Period: 365\n",
      "Simple Interest formula=(P*R*T)/100\n",
      "Simple Interest:  365000.0\n"
     ]
    }
   ],
   "source": [
    "simpleInterest.SIcalculator()"
   ]
  },
  {
   "cell_type": "code",
   "execution_count": 1,
   "metadata": {},
   "outputs": [],
   "source": [
    "#print area and perimeter of rectangle using class and functions\n",
    "class rectangle():\n",
    "    def rectangle():\n",
    "        length=int(input(\"Length:\"))\n",
    "        breadth=int(input(\"Breadth:\"))\n",
    "        print(\"Area formula: Length*Breadth\")\n",
    "        print(\"Area of Rectangle: \",length*breadth)\n",
    "        length=int(input(\"Length:\"))\n",
    "        breadth=int(input(\"Breadth:\"))\n",
    "        print(\"Perimeter formula: 2*(Length+Breadth)\")\n",
    "        print(\"Perimeter of rectangle: \",2*(length+breadth))\n",
    "    "
   ]
  },
  {
   "cell_type": "code",
   "execution_count": 2,
   "metadata": {},
   "outputs": [
    {
     "name": "stdout",
     "output_type": "stream",
     "text": [
      "Length:55\n",
      "Breadth:44\n",
      "Area formula: Length*Breadth\n",
      "Area of Rectangle:  2420\n",
      "Length:34\n",
      "Breadth:43\n",
      "Perimeter formula: 2*(Length+Breadth)\n",
      "Perimeter of rectangle:  154\n"
     ]
    }
   ],
   "source": [
    "rectangle.rectangle()"
   ]
  },
  {
   "cell_type": "code",
   "execution_count": 3,
   "metadata": {},
   "outputs": [],
   "source": [
    "#Print course list using class and function\n",
    "class Courselist():\n",
    "    def courseNames():\n",
    "        print(\"Course List:\")\n",
    "        List=[\"Python\",\"Machine Learning\",\"Data Science\",\"Deep Learning\",\"Time series\"]\n",
    "        for temp in List:\n",
    "            print(temp)"
   ]
  },
  {
   "cell_type": "code",
   "execution_count": 4,
   "metadata": {},
   "outputs": [
    {
     "name": "stdout",
     "output_type": "stream",
     "text": [
      "Course List:\n",
      "Python\n",
      "Machine Learning\n",
      "Data Science\n",
      "Deep Learning\n",
      "Time series\n"
     ]
    }
   ],
   "source": [
    "Courselist.courseNames()"
   ]
  },
  {
   "cell_type": "code",
   "execution_count": 37,
   "metadata": {},
   "outputs": [],
   "source": [
    "#print area and perimeter of rectangle using class and functions\n",
    "class rectangle():\n",
    "    def rectangle():\n",
    "        length=int(input(\"Length:\"))\n",
    "        breadth=int(input(\"Breadth:\"))\n",
    "        print(\"Area formula: Length*Breadth\")\n",
    "        print(\"Area of Rectangle: \",length*breadth)\n",
    "        length=int(input(\"Length:\"))\n",
    "        breadth=int(input(\"Breadth:\"))\n",
    "        print(\"Perimeter formula: 2*(Length+Breadth)\")\n",
    "        print(\"Perimeter of rectangle: \",2*(length+breadth))"
   ]
  },
  {
   "cell_type": "raw",
   "metadata": {},
   "source": [
    "rectangle.rectangle()"
   ]
  },
  {
   "cell_type": "code",
   "execution_count": 7,
   "metadata": {},
   "outputs": [
    {
     "name": "stdout",
     "output_type": "stream",
     "text": [
      "a=13\n",
      "b=98\n",
      "After swapping\n",
      "a=  98\n",
      "b=  13\n"
     ]
    }
   ],
   "source": [
    "#Create a class to swap two numbers without using temporary variable\n",
    "a=int(input(\"a=\"))\n",
    "b=int(input(\"b=\"))\n",
    "a,b=b,a\n",
    "print(\"After swapping\")\n",
    "print(\"a= \",a)\n",
    "print(\"b= \",b)\n"
   ]
  },
  {
   "cell_type": "code",
   "execution_count": null,
   "metadata": {},
   "outputs": [],
   "source": [
    "        length=int(input(\"Length:\"))\n",
    "        breadth=int(input(\"Breadth:\"))\n",
    "        print(\"Area formula: Lengt*Breadth\")\n",
    "        print(\"Area of Rectangle: \",length*breadth)\n",
    "        length=int(input(\"Length:\"))\n",
    "        breadth=int(input(\"Breadth:\"))\n",
    "        print(\"Perimeter formula: 2*(Length+Breadth)\")\n",
    "        print(\"Perimeter of rectangle: \",2*(length+breadth))"
   ]
  },
  {
   "cell_type": "code",
   "execution_count": null,
   "metadata": {},
   "outputs": [],
   "source": []
  }
 ],
 "metadata": {
  "kernelspec": {
   "display_name": "Python 3",
   "language": "python",
   "name": "python3"
  },
  "language_info": {
   "codemirror_mode": {
    "name": "ipython",
    "version": 3
   },
   "file_extension": ".py",
   "mimetype": "text/x-python",
   "name": "python",
   "nbconvert_exporter": "python",
   "pygments_lexer": "ipython3",
   "version": "3.7.4"
  }
 },
 "nbformat": 4,
 "nbformat_minor": 2
}
