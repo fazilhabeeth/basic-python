{
 "cells": [
  {
   "cell_type": "code",
   "execution_count": 1,
   "metadata": {},
   "outputs": [
    {
     "name": "stdout",
     "output_type": "stream",
     "text": [
      "side=4\n",
      "Area formula: side*side\n",
      "Area of square:  16\n",
      "Perimeter formula: 4*side\n",
      "Perimeter of square:  16\n"
     ]
    }
   ],
   "source": [
    "#Print area and perimeter of square using function\n",
    "inp=int(input(\"side=\"))\n",
    "print(\"Area formula: side*side\")\n",
    "print(\"Area of square: \",inp*inp)\n",
    "print(\"Perimeter formula: 4*side\")\n",
    "print(\"Perimeter of square: \",4*inp)"
   ]
  },
  {
   "cell_type": "code",
   "execution_count": 3,
   "metadata": {},
   "outputs": [
    {
     "name": "stdout",
     "output_type": "stream",
     "text": [
      "Weight:45\n",
      "Input:14\n",
      "Bias value:5\n",
      "Formula: Output=Weight*Input+Bias value\n",
      "Simple Linear:  635\n"
     ]
    }
   ],
   "source": [
    "#Create function to calculate simple linear using formula\n",
    "def SimpleLinear():\n",
    "    weight=int(input(\"Weight:\"))\n",
    "    inp=int(input(\"Input:\"))\n",
    "    bias=int(input(\"Bias value:\"))\n",
    "    print(\"Formula: Output=Weight*Input+Bias value\")\n",
    "    print(\"Simple Linear: \",weight*inp+bias)\n",
    "                                                                                      "
   ]
  },
  {
   "cell_type": "code",
   "execution_count": 1,
   "metadata": {},
   "outputs": [],
   "source": [
    "#Print your present age using function\n",
    "def YourAge():\n",
    "    b_year=int(input(\"Birth year : \"))\n",
    "    p_year=int(input(\"Present year : \"))\n",
    "    print(\"Formula:PresentYear-BirthYear\")\n",
    "    print(\"Present Age: \",p_year-b_year)"
   ]
  },
  {
   "cell_type": "code",
   "execution_count": 2,
   "metadata": {},
   "outputs": [
    {
     "name": "stdout",
     "output_type": "stream",
     "text": [
      "Birth year : 1999\n",
      "Present year : 2022\n",
      "Formula:PresentYear-BirthYear\n",
      "Present Age:  23\n"
     ]
    }
   ],
   "source": [
    "YourAge()"
   ]
  },
  {
   "cell_type": "code",
   "execution_count": 22,
   "metadata": {},
   "outputs": [],
   "source": [
    "def squareFunc():\n",
    "    inp=int(input(\"side=\"))\n",
    "    print(\"Area formula: side*side\")\n",
    "    print(\"Area of square: \",inp*inp)\n",
    "    print(\"Perimeter formula: 4*side\")\n",
    "    print(\"Perimeter of square: \",4*inp)\n"
   ]
  },
  {
   "cell_type": "code",
   "execution_count": 23,
   "metadata": {},
   "outputs": [
    {
     "name": "stdout",
     "output_type": "stream",
     "text": [
      "side=35\n",
      "Area formula: side*side\n",
      "Area of square:  1225\n",
      "Perimeter formula: 4*side\n",
      "Perimeter of square:  140\n"
     ]
    }
   ],
   "source": [
    "squareFunc()"
   ]
  },
  {
   "cell_type": "code",
   "execution_count": 20,
   "metadata": {},
   "outputs": [],
   "source": [
    "#Print course list using class and function\n",
    "class Courselist():\n",
    "    def courseNames():\n",
    "        print(\"Course List:\")\n",
    "        List=[\"Python\",\"Machine Learning\",\"Data Science\",\"Deep Learning\",\"Time series\"]\n",
    "        for temp in List:\n",
    "            print(temp)\n",
    "    \n"
   ]
  },
  {
   "cell_type": "code",
   "execution_count": 21,
   "metadata": {},
   "outputs": [
    {
     "name": "stdout",
     "output_type": "stream",
     "text": [
      "Course List:\n",
      "Python\n",
      "Machine Learning\n",
      "Data Science\n",
      "Deep Learning\n",
      "Time series\n"
     ]
    }
   ],
   "source": [
    "Courselist.courseNames()"
   ]
  },
  {
   "cell_type": "code",
   "execution_count": null,
   "metadata": {},
   "outputs": [],
   "source": []
  },
  {
   "cell_type": "code",
   "execution_count": null,
   "metadata": {},
   "outputs": [],
   "source": []
  }
 ],
 "metadata": {
  "kernelspec": {
   "display_name": "Python 3",
   "language": "python",
   "name": "python3"
  },
  "language_info": {
   "codemirror_mode": {
    "name": "ipython",
    "version": 3
   },
   "file_extension": ".py",
   "mimetype": "text/x-python",
   "name": "python",
   "nbconvert_exporter": "python",
   "pygments_lexer": "ipython3",
   "version": "3.7.4"
  }
 },
 "nbformat": 4,
 "nbformat_minor": 2
}
