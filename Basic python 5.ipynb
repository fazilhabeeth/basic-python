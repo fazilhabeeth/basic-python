{
 "cells": [
  {
   "cell_type": "markdown",
   "metadata": {},
   "source": [
    "##### Refer https://www.geeksforgeeks.org/python-programming-language/ for your duobts"
   ]
  },
  {
   "cell_type": "code",
   "execution_count": 2,
   "metadata": {},
   "outputs": [
    {
     "name": "stdout",
     "output_type": "stream",
     "text": [
      "['HOPE', 'Pyhton', 'AI', 'Data Science']\n",
      "\n",
      "List any 2 Items: \n",
      "HOPE\n",
      "AI\n"
     ]
    }
   ],
   "source": [
    "# Print inbetween elements in the 'list'\n",
    "List1 = [\"HOPE\", \"Pyhton\", \"AI\",\"Data Science\"]\n",
    "print(List1)\n",
    "print(\"\\nList any 2 Items: \")\n",
    "print(List1[0])\n",
    "print(List1[2])"
   ]
  },
  {
   "cell_type": "code",
   "execution_count": 3,
   "metadata": {},
   "outputs": [
    {
     "name": "stdout",
     "output_type": "stream",
     "text": [
      "[10, 20, 14, 55, 43, 87, 76]\n",
      "\n",
      "Number of item in the List2: \n",
      "7\n"
     ]
    }
   ],
   "source": [
    "# Print number of items in the list by using 'len'\n",
    "List2 = [10, 20, 14 ,55 ,43 ,87 ,76 ]\n",
    "print(List2)\n",
    "print(\"\\nNumber of item in the List2: \")\n",
    "print(len(List2))"
   ]
  },
  {
   "cell_type": "code",
   "execution_count": 4,
   "metadata": {},
   "outputs": [
    {
     "name": "stdout",
     "output_type": "stream",
     "text": [
      "[1, 2, 5, 7, 9, 11]\n",
      "\n",
      "Access 0th element is:  1\n",
      "\n",
      "Access 3rd element is:  7\n",
      "\n",
      "Access 5td element is:  11\n"
     ]
    }
   ],
   "source": [
    "# access the items in the list by using 'array'\n",
    "import array as arr\n",
    "a = arr.array('i',[1, 2, 5, 7, 9, 11])\n",
    "print(\"[1, 2, 5, 7, 9, 11]\")\n",
    "print(\"\\nAccess 0th element is: \", a[0])\n",
    "print(\"\\nAccess 3rd element is: \", a[3])\n",
    "print(\"\\nAccess 5td element is: \", a[5])"
   ]
  },
  {
   "cell_type": "code",
   "execution_count": 5,
   "metadata": {},
   "outputs": [
    {
     "name": "stdout",
     "output_type": "stream",
     "text": [
      "1: 'Geeks', 2: 'For', 3: 'Geeks'\n",
      "\n",
      "Print using dictionary key\n",
      "{1: 'Geeks', 2: 'For', 3: 'Geeks'}\n"
     ]
    }
   ],
   "source": [
    "# print the elements with key-values using 'dictionary' \n",
    "Dictionary = {1: 'Geeks', 2: 'For', 3: 'Geeks'}\n",
    "print(\"1: 'Geeks', 2: 'For', 3: 'Geeks'\")\n",
    "print(\"\\nPrint using dictionary key\")\n",
    "print(Dictionary)"
   ]
  },
  {
   "cell_type": "code",
   "execution_count": 6,
   "metadata": {},
   "outputs": [
    {
     "name": "stdout",
     "output_type": "stream",
     "text": [
      "([\"HOPE\", \"AI\", \"HOPE\", \"AI\", \"hope\", \"ai\"])\n",
      "\n",
      "Set with the use of List: \n",
      "{'ai', 'HOPE', 'AI', 'hope'}\n"
     ]
    }
   ],
   "source": [
    "# print the mutable and non duplicated elements using 'set' in python\n",
    "set1 = set([\"HOPE\", \"AI\", \"HOPE\", \"AI\", \"hope\", \"ai\"])\n",
    "print(\"\\nSet with the use of List: \")\n",
    "print(set1)"
   ]
  },
  {
   "cell_type": "code",
   "execution_count": 7,
   "metadata": {},
   "outputs": [
    {
     "name": "stdout",
     "output_type": "stream",
     "text": [
      "HOPEArtificialIntelligence\n",
      "\n",
      "Set with the use of String: \n",
      "{'l', 'g', 'P', 'O', 'E', 'A', 'r', 'i', 'n', 'f', 't', 'a', 'c', 'H', 'e', 'I'}\n"
     ]
    }
   ],
   "source": [
    "# print the mutable and non duplicated elements using 'set' in python\n",
    "set1 = set(\"HOPEArtificialIntelligence\")\n",
    "print(\"HOPEArtificialIntelligence\")\n",
    "print(\"\\nSet with the use of String: \")\n",
    "print(set1)"
   ]
  },
  {
   "cell_type": "code",
   "execution_count": null,
   "metadata": {},
   "outputs": [],
   "source": []
  }
 ],
 "metadata": {
  "kernelspec": {
   "display_name": "Python 3",
   "language": "python",
   "name": "python3"
  },
  "language_info": {
   "codemirror_mode": {
    "name": "ipython",
    "version": 3
   },
   "file_extension": ".py",
   "mimetype": "text/x-python",
   "name": "python",
   "nbconvert_exporter": "python",
   "pygments_lexer": "ipython3",
   "version": "3.7.4"
  }
 },
 "nbformat": 4,
 "nbformat_minor": 2
}
