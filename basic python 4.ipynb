{
 "cells": [
  {
   "cell_type": "code",
   "execution_count": 1,
   "metadata": {},
   "outputs": [
    {
     "name": "stdout",
     "output_type": "stream",
     "text": [
      "side=12\n",
      "Area of square: 144\n",
      "perimeter formula 48\n"
     ]
    }
   ],
   "source": [
    "side=int(input(\"side=\"))\n",
    "area=side*side\n",
    "print(\"Area of square:\",area )\n",
    "perimeter=4*side\n",
    "print(\"perimeter formula\",perimeter)\n"
   ]
  },
  {
   "cell_type": "code",
   "execution_count": 7,
   "metadata": {},
   "outputs": [
    {
     "name": "stdout",
     "output_type": "stream",
     "text": [
      "side=12\n",
      "area formula: side*side\n",
      "Area of square: 144\n",
      "perimeter formula: 4*side\n",
      "perimeter formula 48\n"
     ]
    },
    {
     "ename": "SyntaxError",
     "evalue": "'return' outside function (<ipython-input-7-949f0dad039b>, line 10)",
     "output_type": "error",
     "traceback": [
      "\u001b[1;36m  File \u001b[1;32m\"<ipython-input-7-949f0dad039b>\"\u001b[1;36m, line \u001b[1;32m10\u001b[0m\n\u001b[1;33m    return answer\u001b[0m\n\u001b[1;37m                 ^\u001b[0m\n\u001b[1;31mSyntaxError\u001b[0m\u001b[1;31m:\u001b[0m 'return' outside function\n"
     ]
    }
   ],
   "source": [
    "side=int(input(\"side=\"))\n",
    "area=side*side\n",
    "print(\"area formula: side*side\")\n",
    "answer= area\n",
    "print(\"Area of square:\",area )\n",
    "perimeter=4*side\n",
    "print(\"perimeter formula: 4*side\")\n",
    "print(\"perimeter formula\",perimeter)\n",
    "answer=perimeter\n",
    "return answer\n"
   ]
  },
  {
   "cell_type": "code",
   "execution_count": 1,
   "metadata": {},
   "outputs": [],
   "source": [
    "def square():    \n",
    "    side=int(input(\"side=\"))\n",
    "    area=side*side\n",
    "    print(\"area formula: side*side\")\n",
    "    print(\"Area of square:\",area )\n",
    "    answer= area\n",
    "    perimeter=4*side\n",
    "    print(\"perimeter formula: 4*side\")\n",
    "    print(\"perimeter formula\",perimeter)\n",
    "    answer=perimeter\n",
    "    return answer\n",
    "\n"
   ]
  },
  {
   "cell_type": "code",
   "execution_count": 2,
   "metadata": {},
   "outputs": [
    {
     "name": "stdout",
     "output_type": "stream",
     "text": [
      "side=3\n",
      "area formula: side*side\n",
      "Area of square: 9\n",
      "perimeter formula: 4*side\n",
      "perimeter formula 12\n"
     ]
    },
    {
     "data": {
      "text/plain": [
       "12"
      ]
     },
     "execution_count": 2,
     "metadata": {},
     "output_type": "execute_result"
    }
   ],
   "source": [
    "square()"
   ]
  },
  {
   "cell_type": "code",
   "execution_count": null,
   "metadata": {},
   "outputs": [],
   "source": [
    "# save this def in .py file"
   ]
  },
  {
   "cell_type": "code",
   "execution_count": null,
   "metadata": {},
   "outputs": [],
   "source": []
  }
 ],
 "metadata": {
  "kernelspec": {
   "display_name": "Python 3",
   "language": "python",
   "name": "python3"
  },
  "language_info": {
   "codemirror_mode": {
    "name": "ipython",
    "version": 3
   },
   "file_extension": ".py",
   "mimetype": "text/x-python",
   "name": "python",
   "nbconvert_exporter": "python",
   "pygments_lexer": "ipython3",
   "version": "3.7.4"
  }
 },
 "nbformat": 4,
 "nbformat_minor": 2
}
